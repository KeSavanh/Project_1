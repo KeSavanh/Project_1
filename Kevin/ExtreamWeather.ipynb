{
 "cells": [
  {
   "cell_type": "code",
   "execution_count": 1,
   "id": "201b8711",
   "metadata": {},
   "outputs": [],
   "source": [
    "import os\n",
    "import glob\n",
    "import pandas as pd\n",
    "import matplotlib.pyplot as plt\n",
    "import numpy as np\n",
    "import requests\n",
    "import time\n",
    "import scipy.stats as st\n",
    "from scipy.stats import linregress\n",
    "from pprint import pprint"
   ]
  },
  {
   "cell_type": "code",
   "execution_count": 2,
   "id": "5628b650",
   "metadata": {},
   "outputs": [],
   "source": [
    "#Import csv file as a data frame\n",
    "weather = pd.read_csv('in_put/weather_ext.csv')"
   ]
  },
  {
   "cell_type": "code",
   "execution_count": 3,
   "id": "1cebb254",
   "metadata": {},
   "outputs": [],
   "source": [
    "#Split date to derive year\n",
    "weather[['MONTH', 'DATE', 'YEAR']] = weather['BEGIN_DATE'].str.split('/',expand=True)\n",
    "#Sort data by year\n",
    "weather = weather.sort_values(by = 'YEAR', ascending = True)"
   ]
  },
  {
   "cell_type": "code",
   "execution_count": 4,
   "id": "848cc60e",
   "metadata": {},
   "outputs": [],
   "source": [
    "#Creat a new data frame to disinclude unrelated data\n",
    "weather = weather[['CZ_NAME_STR', 'EVENT_TYPE', 'MAGNITUDE', 'DEATHS_DIRECT', 'INJURIES_DIRECT',\n",
    "                   'DAMAGE_PROPERTY_NUM', 'STATE_ABBR', 'CZ_TYPE', 'CZ_FIPS', 'YEAR']]"
   ]
  },
  {
   "cell_type": "code",
   "execution_count": 5,
   "id": "fe14500f",
   "metadata": {},
   "outputs": [],
   "source": [
    "#Import county fips csv file\n",
    "zone_fip = pd.read_csv('in_put/zonefip.csv')\n",
    "#Create a data frame to split strings in columns\n",
    "zone_fip[['State', \n",
    "          'ZoneNum',\n",
    "          'ZoneAB',\n",
    "          'ZoneName',\n",
    "          'ZoneCode',\n",
    "          'County',\n",
    "           'Area',\n",
    "           'Type',\n",
    "          'Empty',\n",
    "          'Lat',\n",
    "          'Lng']] = zone_fip['Header'].str.split('|',expand=True)"
   ]
  },
  {
   "cell_type": "code",
   "execution_count": 6,
   "id": "0d6451dc",
   "metadata": {},
   "outputs": [],
   "source": [
    "#Narrow down for only related columns\n",
    "zone_fip = zone_fip[['State', 'County', 'ZoneNum']]\n",
    "#Select only data in California\n",
    "zone_fip = zone_fip.loc[zone_fip['State'] == 'CA']\n",
    "zone_fip['ZoneNum'] = zone_fip['ZoneNum'].str.lstrip('0')\n",
    "#Create a dictionary to hold zone number and county name\n",
    "zone_dict = dict(zip(zone_fip.ZoneNum, zone_fip.County))\n",
    "#reset idex for Weather data frame\n",
    "weather = weather.reset_index()"
   ]
  },
  {
   "cell_type": "code",
   "execution_count": 7,
   "id": "dafabd03",
   "metadata": {},
   "outputs": [],
   "source": [
    "#Matching Zone number in Weather data frame to the dictionary to get county numes\n",
    "def matchingzone(zone):\n",
    "    zone = str(zone)\n",
    "    return zone_dict.get(zone)\n",
    "\n",
    "weather['COUNTY'] = weather['CZ_FIPS'].apply(matchingzone)"
   ]
  },
  {
   "cell_type": "code",
   "execution_count": 8,
   "id": "823d48c0",
   "metadata": {},
   "outputs": [],
   "source": [
    "#Excluding unrelated columns\n",
    "weather = weather[['YEAR', 'COUNTY', 'EVENT_TYPE', 'DEATHS_DIRECT',\n",
    "       'INJURIES_DIRECT', 'DAMAGE_PROPERTY_NUM']]\n",
    "#Sort dataset for 2010-2019\n",
    "weather = weather.loc[weather['YEAR'] > '2009']\n",
    "weather = weather.loc[weather['YEAR'] < '2020']\n",
    "#Sort out any Nulls or None\n",
    "weather = weather.mask(weather.astype(object).eq('None')).dropna()\n",
    "#Export to out_put\n",
    "weather.to_csv('out_put/Extreme_weather.csv')"
   ]
  },
  {
   "cell_type": "code",
   "execution_count": 15,
   "id": "132d3430",
   "metadata": {},
   "outputs": [
    {
     "data": {
      "text/plain": [
       "EVENT_TYPE             YEAR\n",
       "Astronomical Low Tide  2016       0.000000\n",
       "                       2018       0.000000\n",
       "                       2019       0.000000\n",
       "Avalanche              2011       0.000000\n",
       "                       2012       0.000000\n",
       "                                  ...     \n",
       "Winter Weather         2015       0.000000\n",
       "                       2016       0.000000\n",
       "                       2017    2272.727273\n",
       "                       2018       0.000000\n",
       "                       2019       2.032520\n",
       "Name: DAMAGE_PROPERTY_NUM, Length: 262, dtype: float64"
      ]
     },
     "execution_count": 15,
     "metadata": {},
     "output_type": "execute_result"
    }
   ],
   "source": [
    "weather_event = weather.groupby(['EVENT_TYPE', 'YEAR'])['DAMAGE_PROPERTY_NUM'].mean()\n",
    "weather_event"
   ]
  },
  {
   "cell_type": "code",
   "execution_count": 14,
   "id": "1e8231dc",
   "metadata": {},
   "outputs": [
    {
     "data": {
      "text/plain": [
       "<matplotlib.axes._subplots.AxesSubplot at 0x7fe78d59dcf8>"
      ]
     },
     "execution_count": 14,
     "metadata": {},
     "output_type": "execute_result"
    },
    {
     "data": {
      "image/png": "[encoded data removed]",
      "text/plain": [
       "<Figure size 432x288 with 1 Axes>"
      ]
     },
     "metadata": {
      "needs_background": "light"
     },
     "output_type": "display_data"
    }
   ],
   "source": [
    "weather_event.plot(kind='bar')"
   ]
  },
  {
   "cell_type": "code",
   "execution_count": null,
   "id": "36301d55",
   "metadata": {},
   "outputs": [],
   "source": []
  }
 ],
 "metadata": {
  "kernelspec": {
   "display_name": "Python 3",
   "language": "python",
   "name": "python3"
  },
  "language_info": {
   "codemirror_mode": {
    "name": "ipython",
    "version": 3
   },
   "file_extension": ".py",
   "mimetype": "text/x-python",
   "name": "python",
   "nbconvert_exporter": "python",
   "pygments_lexer": "ipython3",
   "version": "3.6.10"
  }
 },
 "nbformat": 4,
 "nbformat_minor": 5
}
