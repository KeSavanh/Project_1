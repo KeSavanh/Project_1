{
 "cells": [
  {
   "cell_type": "code",
   "execution_count": 1,
   "source": [
    "# Dependencies\r\n",
    "import requests\r\n",
    "import pandas as pd\r\n",
    "from config import api_key\r\n",
    "import numpy as np\r\n",
    "# Incorporated citipy to determine city based on latitude and longitude\r\n",
    "from citipy import citipy\r\n",
    "# Output File (CSV)\r\n",
    "output_data_file = \"out/weather.csv\""
   ],
   "outputs": [],
   "metadata": {}
  },
  {
   "cell_type": "code",
   "execution_count": 3,
   "source": [
    "# Save config info \r\n",
    "url = \"http://api.openweathermap.org/data/2.5/weather?\"\r\n",
    "units = \"imperial\"\r\n",
    "# Build partial query URL\r\n",
    "query_url = f\"{url}appid={api_key}&units={units}&q=\""
   ],
   "outputs": [],
   "metadata": {}
  },
  {
   "cell_type": "code",
   "execution_count": 4,
   "source": [],
   "outputs": [
    {
     "output_type": "stream",
     "name": "stdout",
     "text": [
      "{'coord': {'lon': 13.5088, 'lat': 38.046}, 'weather': [{'id': 800, 'main': 'Clear', 'description': 'clear sky', 'icon': '01n'}], 'base': 'stations', 'main': {'temp': 72.68, 'feels_like': 72.52, 'temp_min': 67.93, 'temp_max': 73.72, 'pressure': 1021, 'humidity': 61}, 'visibility': 10000, 'wind': {'speed': 7, 'deg': 48, 'gust': 8.99}, 'clouds': {'all': 0}, 'dt': 1632421360, 'sys': {'type': 2, 'id': 2010811, 'country': 'IT', 'sunrise': 1632372873, 'sunset': 1632416528}, 'timezone': 7200, 'id': 2523920, 'name': 'Caltanissetta', 'cod': 200}\n"
     ]
    }
   ],
   "metadata": {}
  },
  {
   "cell_type": "code",
   "execution_count": null,
   "source": [],
   "outputs": [],
   "metadata": {}
  }
 ],
 "metadata": {
  "orig_nbformat": 4,
  "language_info": {
   "name": "python",
   "version": "3.8.10",
   "mimetype": "text/x-python",
   "codemirror_mode": {
    "name": "ipython",
    "version": 3
   },
   "pygments_lexer": "ipython3",
   "nbconvert_exporter": "python",
   "file_extension": ".py"
  },
  "kernelspec": {
   "name": "python3",
   "display_name": "Python 3.8.10 64-bit ('base': conda)"
  },
  "interpreter": {
   "hash": "6302fe54fea17d253901109aa01549414ba0c66d98600c82aff1417675b2adf2"
  }
 },
 "nbformat": 4,
 "nbformat_minor": 2
}